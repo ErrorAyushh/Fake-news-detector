{
 "cells": [
  {
   "cell_type": "code",
   "execution_count": 1,
   "id": "3055c052",
   "metadata": {},
   "outputs": [],
   "source": [
    "import zipfile\n",
    "import os\n",
    "\n",
    "with zipfile.ZipFile(\"news.zip\", 'r') as zip_ref:\n",
    "    zip_ref.extractall(\"data\")  # Extract to a folder named \"data\"\n"
   ]
  },
  {
   "cell_type": "code",
   "execution_count": 15,
   "id": "141c8a51",
   "metadata": {},
   "outputs": [],
   "source": [
    "import pandas as pd\n",
    "import zipfile\n",
    "\n",
    "# Unzip the file\n",
    "with zipfile.ZipFile(\"news.zip\", 'r') as zip_ref:\n",
    "    zip_ref.extractall(\"news_data\")\n",
    "\n",
    "# Load datasets\n",
    "fake = pd.read_csv(\"news_data/Fake.csv\")\n",
    "true = pd.read_csv(\"news_data/True.csv\")\n",
    "\n",
    "# Add labels: 0 = fake, 1 = real\n",
    "fake['label'] = 0\n",
    "true['label'] = 1\n",
    "\n",
    "# Combine and shuffle\n",
    "df = pd.concat([fake, true])\n",
    "df = df.sample(frac=1).reset_index(drop=True)\n",
    "\n",
    "# Use only 'title' + 'text' for input\n",
    "df['content'] = df['title'] + \" \" + df['text']\n",
    "\n"
   ]
  },
  {
   "cell_type": "code",
   "execution_count": 16,
   "id": "c6bdf345",
   "metadata": {},
   "outputs": [
    {
     "data": {
      "text/html": [
       "<div>\n",
       "<style scoped>\n",
       "    .dataframe tbody tr th:only-of-type {\n",
       "        vertical-align: middle;\n",
       "    }\n",
       "\n",
       "    .dataframe tbody tr th {\n",
       "        vertical-align: top;\n",
       "    }\n",
       "\n",
       "    .dataframe thead th {\n",
       "        text-align: right;\n",
       "    }\n",
       "</style>\n",
       "<table border=\"1\" class=\"dataframe\">\n",
       "  <thead>\n",
       "    <tr style=\"text-align: right;\">\n",
       "      <th></th>\n",
       "      <th>title</th>\n",
       "      <th>text</th>\n",
       "      <th>subject</th>\n",
       "      <th>date</th>\n",
       "      <th>label</th>\n",
       "      <th>content</th>\n",
       "    </tr>\n",
       "  </thead>\n",
       "  <tbody>\n",
       "    <tr>\n",
       "      <th>0</th>\n",
       "      <td>DC CHIEF OF POLICE DENIES CONCEALED WEAPONS PE...</td>\n",
       "      <td>This is a perfect example of how the left is a...</td>\n",
       "      <td>left-news</td>\n",
       "      <td>Sep 7, 2015</td>\n",
       "      <td>0</td>\n",
       "      <td>DC CHIEF OF POLICE DENIES CONCEALED WEAPONS PE...</td>\n",
       "    </tr>\n",
       "    <tr>\n",
       "      <th>1</th>\n",
       "      <td>A month on, U.S., Niger still disagree on what...</td>\n",
       "      <td>NIAMEY/WASHINGTON (Reuters) - A month after an...</td>\n",
       "      <td>worldnews</td>\n",
       "      <td>November 3, 2017</td>\n",
       "      <td>1</td>\n",
       "      <td>A month on, U.S., Niger still disagree on what...</td>\n",
       "    </tr>\n",
       "    <tr>\n",
       "      <th>2</th>\n",
       "      <td>Obama Goes “Full Monty”: Kills Thousands More ...</td>\n",
       "      <td>H1B Visas have been the downfall of thousands ...</td>\n",
       "      <td>Government News</td>\n",
       "      <td>Jan 1, 2016</td>\n",
       "      <td>0</td>\n",
       "      <td>Obama Goes “Full Monty”: Kills Thousands More ...</td>\n",
       "    </tr>\n",
       "    <tr>\n",
       "      <th>3</th>\n",
       "      <td>LOL! CHUCKIE SCHUMER WARNS TRUMP Is “In Troubl...</td>\n",
       "      <td>The top Democrat in the Senate, Chuck Schumer ...</td>\n",
       "      <td>left-news</td>\n",
       "      <td>Mar 5, 2017</td>\n",
       "      <td>0</td>\n",
       "      <td>LOL! CHUCKIE SCHUMER WARNS TRUMP Is “In Troubl...</td>\n",
       "    </tr>\n",
       "    <tr>\n",
       "      <th>4</th>\n",
       "      <td>U.S. lifts Sudan sanctions, wins commitment ag...</td>\n",
       "      <td>WASHINGTON (Reuters) - The United States lifte...</td>\n",
       "      <td>worldnews</td>\n",
       "      <td>October 6, 2017</td>\n",
       "      <td>1</td>\n",
       "      <td>U.S. lifts Sudan sanctions, wins commitment ag...</td>\n",
       "    </tr>\n",
       "  </tbody>\n",
       "</table>\n",
       "</div>"
      ],
      "text/plain": [
       "                                               title  \\\n",
       "0  DC CHIEF OF POLICE DENIES CONCEALED WEAPONS PE...   \n",
       "1  A month on, U.S., Niger still disagree on what...   \n",
       "2  Obama Goes “Full Monty”: Kills Thousands More ...   \n",
       "3  LOL! CHUCKIE SCHUMER WARNS TRUMP Is “In Troubl...   \n",
       "4  U.S. lifts Sudan sanctions, wins commitment ag...   \n",
       "\n",
       "                                                text          subject  \\\n",
       "0  This is a perfect example of how the left is a...        left-news   \n",
       "1  NIAMEY/WASHINGTON (Reuters) - A month after an...        worldnews   \n",
       "2  H1B Visas have been the downfall of thousands ...  Government News   \n",
       "3  The top Democrat in the Senate, Chuck Schumer ...        left-news   \n",
       "4  WASHINGTON (Reuters) - The United States lifte...        worldnews   \n",
       "\n",
       "                date  label                                            content  \n",
       "0        Sep 7, 2015      0  DC CHIEF OF POLICE DENIES CONCEALED WEAPONS PE...  \n",
       "1  November 3, 2017       1  A month on, U.S., Niger still disagree on what...  \n",
       "2        Jan 1, 2016      0  Obama Goes “Full Monty”: Kills Thousands More ...  \n",
       "3        Mar 5, 2017      0  LOL! CHUCKIE SCHUMER WARNS TRUMP Is “In Troubl...  \n",
       "4   October 6, 2017       1  U.S. lifts Sudan sanctions, wins commitment ag...  "
      ]
     },
     "execution_count": 16,
     "metadata": {},
     "output_type": "execute_result"
    }
   ],
   "source": [
    "df.head()"
   ]
  },
  {
   "cell_type": "code",
   "execution_count": 9,
   "id": "9d41062e",
   "metadata": {},
   "outputs": [
    {
     "name": "stdout",
     "output_type": "stream",
     "text": [
      "Requirement already satisfied: transformers in c:\\users\\library-06\\desktop\\tf_env\\lib\\site-packages (4.54.1)\n",
      "Requirement already satisfied: tokenizers<0.22,>=0.21 in c:\\users\\library-06\\desktop\\tf_env\\lib\\site-packages (from transformers) (0.21.4)\n",
      "Requirement already satisfied: tqdm>=4.27 in c:\\users\\library-06\\desktop\\tf_env\\lib\\site-packages (from transformers) (4.67.1)\n",
      "Requirement already satisfied: filelock in c:\\users\\library-06\\desktop\\tf_env\\lib\\site-packages (from transformers) (3.18.0)\n",
      "Requirement already satisfied: packaging>=20.0 in c:\\users\\library-06\\desktop\\tf_env\\lib\\site-packages (from transformers) (25.0)\n",
      "Requirement already satisfied: requests in c:\\users\\library-06\\desktop\\tf_env\\lib\\site-packages (from transformers) (2.32.4)\n",
      "Requirement already satisfied: regex!=2019.12.17 in c:\\users\\library-06\\desktop\\tf_env\\lib\\site-packages (from transformers) (2025.7.34)\n",
      "Requirement already satisfied: numpy>=1.17 in c:\\users\\library-06\\desktop\\tf_env\\lib\\site-packages (from transformers) (2.1.3)\n",
      "Requirement already satisfied: huggingface-hub<1.0,>=0.34.0 in c:\\users\\library-06\\desktop\\tf_env\\lib\\site-packages (from transformers) (0.34.3)\n",
      "Requirement already satisfied: pyyaml>=5.1 in c:\\users\\library-06\\desktop\\tf_env\\lib\\site-packages (from transformers) (6.0.2)\n",
      "Requirement already satisfied: safetensors>=0.4.3 in c:\\users\\library-06\\desktop\\tf_env\\lib\\site-packages (from transformers) (0.5.3)\n",
      "Requirement already satisfied: typing-extensions>=3.7.4.3 in c:\\users\\library-06\\desktop\\tf_env\\lib\\site-packages (from huggingface-hub<1.0,>=0.34.0->transformers) (4.14.1)\n",
      "Requirement already satisfied: fsspec>=2023.5.0 in c:\\users\\library-06\\desktop\\tf_env\\lib\\site-packages (from huggingface-hub<1.0,>=0.34.0->transformers) (2025.7.0)\n",
      "Requirement already satisfied: colorama in c:\\users\\library-06\\desktop\\tf_env\\lib\\site-packages (from tqdm>=4.27->transformers) (0.4.6)\n",
      "Requirement already satisfied: urllib3<3,>=1.21.1 in c:\\users\\library-06\\desktop\\tf_env\\lib\\site-packages (from requests->transformers) (2.5.0)\n",
      "Requirement already satisfied: certifi>=2017.4.17 in c:\\users\\library-06\\desktop\\tf_env\\lib\\site-packages (from requests->transformers) (2025.7.14)\n",
      "Requirement already satisfied: idna<4,>=2.5 in c:\\users\\library-06\\desktop\\tf_env\\lib\\site-packages (from requests->transformers) (3.10)\n",
      "Requirement already satisfied: charset_normalizer<4,>=2 in c:\\users\\library-06\\desktop\\tf_env\\lib\\site-packages (from requests->transformers) (3.4.2)\n",
      "Note: you may need to restart the kernel to use updated packages.\n"
     ]
    },
    {
     "name": "stderr",
     "output_type": "stream",
     "text": [
      "WARNING: You are using pip version 21.2.3; however, version 25.2 is available.\n",
      "You should consider upgrading via the 'C:\\Users\\Library-06\\Desktop\\tf_env\\Scripts\\python.exe -m pip install --upgrade pip' command.\n"
     ]
    }
   ],
   "source": [
    "pip install transformers\n"
   ]
  },
  {
   "cell_type": "code",
   "execution_count": 17,
   "id": "961342c9",
   "metadata": {},
   "outputs": [],
   "source": [
    "import re\n",
    "import string\n",
    "\n",
    "def clean_text(text):\n",
    "    text = text.lower()\n",
    "    text = re.sub(r'\\[.*?\\]', '', text)\n",
    "    text = re.sub(r'https?://\\S+|www\\.\\S+', '', text)\n",
    "    text = re.sub(r'<.*?>+', '', text)\n",
    "    text = re.sub(r'[%s]' % re.escape(string.punctuation), '', text)\n",
    "    text = re.sub(r'\\n', ' ', text)\n",
    "    text = re.sub(r'\\w*\\d\\w*', '', text)\n",
    "    return text\n",
    "\n",
    "df['content'] = df['content'].apply(clean_text)\n",
    "\n"
   ]
  },
  {
   "cell_type": "code",
   "execution_count": 10,
   "id": "681c28d5",
   "metadata": {},
   "outputs": [
    {
     "name": "stdout",
     "output_type": "stream",
     "text": [
      "Collecting nltk\n",
      "  Downloading nltk-3.9.1-py3-none-any.whl (1.5 MB)\n",
      "Requirement already satisfied: tqdm in c:\\users\\library-06\\desktop\\tf_env\\lib\\site-packages (from nltk) (4.67.1)\n",
      "Requirement already satisfied: regex>=2021.8.3 in c:\\users\\library-06\\desktop\\tf_env\\lib\\site-packages (from nltk) (2025.7.34)\n",
      "Requirement already satisfied: joblib in c:\\users\\library-06\\desktop\\tf_env\\lib\\site-packages (from nltk) (1.5.1)\n",
      "Collecting click\n",
      "  Downloading click-8.2.1-py3-none-any.whl (102 kB)\n",
      "Requirement already satisfied: colorama in c:\\users\\library-06\\desktop\\tf_env\\lib\\site-packages (from click->nltk) (0.4.6)\n",
      "Installing collected packages: click, nltk\n",
      "Successfully installed click-8.2.1 nltk-3.9.1\n",
      "Note: you may need to restart the kernel to use updated packages.\n"
     ]
    },
    {
     "name": "stderr",
     "output_type": "stream",
     "text": [
      "WARNING: You are using pip version 21.2.3; however, version 25.2 is available.\n",
      "You should consider upgrading via the 'C:\\Users\\Library-06\\Desktop\\tf_env\\Scripts\\python.exe -m pip install --upgrade pip' command.\n"
     ]
    }
   ],
   "source": [
    "pip install nltk"
   ]
  },
  {
   "cell_type": "code",
   "execution_count": 18,
   "id": "8729c39b",
   "metadata": {},
   "outputs": [],
   "source": [
    "from sklearn.model_selection import train_test_split\n",
    "from tensorflow.keras.preprocessing.text import Tokenizer\n",
    "from tensorflow.keras.preprocessing.sequence import pad_sequences\n",
    "import numpy as np\n",
    "\n",
    "X = df['content'].values\n",
    "y = df['label'].values\n",
    "\n",
    "X_train, X_test, y_train, y_test = train_test_split(X, y, test_size=0.2, random_state=42)\n",
    "\n",
    "# Tokenize\n",
    "tokenizer = Tokenizer(num_words=5000, oov_token='<OOV>')\n",
    "tokenizer.fit_on_texts(X_train)\n",
    "\n",
    "# Convert to sequences\n",
    "X_train_seq = tokenizer.texts_to_sequences(X_train)\n",
    "X_test_seq = tokenizer.texts_to_sequences(X_test)\n",
    "\n",
    "# Padding\n",
    "max_length = 500\n",
    "X_train_pad = pad_sequences(X_train_seq, maxlen=max_length, padding='post')\n",
    "X_test_pad = pad_sequences(X_test_seq, maxlen=max_length, padding='post')\n",
    "\n"
   ]
  },
  {
   "cell_type": "code",
   "execution_count": 19,
   "id": "603903c1",
   "metadata": {},
   "outputs": [
    {
     "name": "stderr",
     "output_type": "stream",
     "text": [
      "C:\\Users\\Library-06\\Desktop\\tf_env\\lib\\site-packages\\keras\\src\\layers\\core\\embedding.py:97: UserWarning: Argument `input_length` is deprecated. Just remove it.\n",
      "  warnings.warn(\n"
     ]
    },
    {
     "data": {
      "text/html": [
       "<pre style=\"white-space:pre;overflow-x:auto;line-height:normal;font-family:Menlo,'DejaVu Sans Mono',consolas,'Courier New',monospace\"><span style=\"font-weight: bold\">Model: \"sequential\"</span>\n",
       "</pre>\n"
      ],
      "text/plain": [
       "\u001b[1mModel: \"sequential\"\u001b[0m\n"
      ]
     },
     "metadata": {},
     "output_type": "display_data"
    },
    {
     "data": {
      "text/html": [
       "<pre style=\"white-space:pre;overflow-x:auto;line-height:normal;font-family:Menlo,'DejaVu Sans Mono',consolas,'Courier New',monospace\">┏━━━━━━━━━━━━━━━━━━━━━━━━━━━━━━━━━━━━━━┳━━━━━━━━━━━━━━━━━━━━━━━━━━━━━┳━━━━━━━━━━━━━━━━━┓\n",
       "┃<span style=\"font-weight: bold\"> Layer (type)                         </span>┃<span style=\"font-weight: bold\"> Output Shape                </span>┃<span style=\"font-weight: bold\">         Param # </span>┃\n",
       "┡━━━━━━━━━━━━━━━━━━━━━━━━━━━━━━━━━━━━━━╇━━━━━━━━━━━━━━━━━━━━━━━━━━━━━╇━━━━━━━━━━━━━━━━━┩\n",
       "│ embedding (<span style=\"color: #0087ff; text-decoration-color: #0087ff\">Embedding</span>)                │ ?                           │     <span style=\"color: #00af00; text-decoration-color: #00af00\">0</span> (unbuilt) │\n",
       "├──────────────────────────────────────┼─────────────────────────────┼─────────────────┤\n",
       "│ bidirectional (<span style=\"color: #0087ff; text-decoration-color: #0087ff\">Bidirectional</span>)        │ ?                           │     <span style=\"color: #00af00; text-decoration-color: #00af00\">0</span> (unbuilt) │\n",
       "├──────────────────────────────────────┼─────────────────────────────┼─────────────────┤\n",
       "│ dropout (<span style=\"color: #0087ff; text-decoration-color: #0087ff\">Dropout</span>)                    │ ?                           │               <span style=\"color: #00af00; text-decoration-color: #00af00\">0</span> │\n",
       "├──────────────────────────────────────┼─────────────────────────────┼─────────────────┤\n",
       "│ lstm_1 (<span style=\"color: #0087ff; text-decoration-color: #0087ff\">LSTM</span>)                        │ ?                           │     <span style=\"color: #00af00; text-decoration-color: #00af00\">0</span> (unbuilt) │\n",
       "├──────────────────────────────────────┼─────────────────────────────┼─────────────────┤\n",
       "│ dropout_1 (<span style=\"color: #0087ff; text-decoration-color: #0087ff\">Dropout</span>)                  │ ?                           │               <span style=\"color: #00af00; text-decoration-color: #00af00\">0</span> │\n",
       "├──────────────────────────────────────┼─────────────────────────────┼─────────────────┤\n",
       "│ dense (<span style=\"color: #0087ff; text-decoration-color: #0087ff\">Dense</span>)                        │ ?                           │     <span style=\"color: #00af00; text-decoration-color: #00af00\">0</span> (unbuilt) │\n",
       "├──────────────────────────────────────┼─────────────────────────────┼─────────────────┤\n",
       "│ dense_1 (<span style=\"color: #0087ff; text-decoration-color: #0087ff\">Dense</span>)                      │ ?                           │     <span style=\"color: #00af00; text-decoration-color: #00af00\">0</span> (unbuilt) │\n",
       "└──────────────────────────────────────┴─────────────────────────────┴─────────────────┘\n",
       "</pre>\n"
      ],
      "text/plain": [
       "┏━━━━━━━━━━━━━━━━━━━━━━━━━━━━━━━━━━━━━━┳━━━━━━━━━━━━━━━━━━━━━━━━━━━━━┳━━━━━━━━━━━━━━━━━┓\n",
       "┃\u001b[1m \u001b[0m\u001b[1mLayer (type)                        \u001b[0m\u001b[1m \u001b[0m┃\u001b[1m \u001b[0m\u001b[1mOutput Shape               \u001b[0m\u001b[1m \u001b[0m┃\u001b[1m \u001b[0m\u001b[1m        Param #\u001b[0m\u001b[1m \u001b[0m┃\n",
       "┡━━━━━━━━━━━━━━━━━━━━━━━━━━━━━━━━━━━━━━╇━━━━━━━━━━━━━━━━━━━━━━━━━━━━━╇━━━━━━━━━━━━━━━━━┩\n",
       "│ embedding (\u001b[38;5;33mEmbedding\u001b[0m)                │ ?                           │     \u001b[38;5;34m0\u001b[0m (unbuilt) │\n",
       "├──────────────────────────────────────┼─────────────────────────────┼─────────────────┤\n",
       "│ bidirectional (\u001b[38;5;33mBidirectional\u001b[0m)        │ ?                           │     \u001b[38;5;34m0\u001b[0m (unbuilt) │\n",
       "├──────────────────────────────────────┼─────────────────────────────┼─────────────────┤\n",
       "│ dropout (\u001b[38;5;33mDropout\u001b[0m)                    │ ?                           │               \u001b[38;5;34m0\u001b[0m │\n",
       "├──────────────────────────────────────┼─────────────────────────────┼─────────────────┤\n",
       "│ lstm_1 (\u001b[38;5;33mLSTM\u001b[0m)                        │ ?                           │     \u001b[38;5;34m0\u001b[0m (unbuilt) │\n",
       "├──────────────────────────────────────┼─────────────────────────────┼─────────────────┤\n",
       "│ dropout_1 (\u001b[38;5;33mDropout\u001b[0m)                  │ ?                           │               \u001b[38;5;34m0\u001b[0m │\n",
       "├──────────────────────────────────────┼─────────────────────────────┼─────────────────┤\n",
       "│ dense (\u001b[38;5;33mDense\u001b[0m)                        │ ?                           │     \u001b[38;5;34m0\u001b[0m (unbuilt) │\n",
       "├──────────────────────────────────────┼─────────────────────────────┼─────────────────┤\n",
       "│ dense_1 (\u001b[38;5;33mDense\u001b[0m)                      │ ?                           │     \u001b[38;5;34m0\u001b[0m (unbuilt) │\n",
       "└──────────────────────────────────────┴─────────────────────────────┴─────────────────┘\n"
      ]
     },
     "metadata": {},
     "output_type": "display_data"
    },
    {
     "data": {
      "text/html": [
       "<pre style=\"white-space:pre;overflow-x:auto;line-height:normal;font-family:Menlo,'DejaVu Sans Mono',consolas,'Courier New',monospace\"><span style=\"font-weight: bold\"> Total params: </span><span style=\"color: #00af00; text-decoration-color: #00af00\">0</span> (0.00 B)\n",
       "</pre>\n"
      ],
      "text/plain": [
       "\u001b[1m Total params: \u001b[0m\u001b[38;5;34m0\u001b[0m (0.00 B)\n"
      ]
     },
     "metadata": {},
     "output_type": "display_data"
    },
    {
     "data": {
      "text/html": [
       "<pre style=\"white-space:pre;overflow-x:auto;line-height:normal;font-family:Menlo,'DejaVu Sans Mono',consolas,'Courier New',monospace\"><span style=\"font-weight: bold\"> Trainable params: </span><span style=\"color: #00af00; text-decoration-color: #00af00\">0</span> (0.00 B)\n",
       "</pre>\n"
      ],
      "text/plain": [
       "\u001b[1m Trainable params: \u001b[0m\u001b[38;5;34m0\u001b[0m (0.00 B)\n"
      ]
     },
     "metadata": {},
     "output_type": "display_data"
    },
    {
     "data": {
      "text/html": [
       "<pre style=\"white-space:pre;overflow-x:auto;line-height:normal;font-family:Menlo,'DejaVu Sans Mono',consolas,'Courier New',monospace\"><span style=\"font-weight: bold\"> Non-trainable params: </span><span style=\"color: #00af00; text-decoration-color: #00af00\">0</span> (0.00 B)\n",
       "</pre>\n"
      ],
      "text/plain": [
       "\u001b[1m Non-trainable params: \u001b[0m\u001b[38;5;34m0\u001b[0m (0.00 B)\n"
      ]
     },
     "metadata": {},
     "output_type": "display_data"
    }
   ],
   "source": [
    "from tensorflow.keras.models import Sequential\n",
    "from tensorflow.keras.layers import Embedding, LSTM, Dense, Bidirectional, Dropout\n",
    "\n",
    "model = Sequential([\n",
    "    Embedding(input_dim=5000, output_dim=64, input_length=max_length),\n",
    "    Bidirectional(LSTM(64, return_sequences=True)),\n",
    "    Dropout(0.3),\n",
    "    LSTM(32),\n",
    "    Dropout(0.2),\n",
    "    Dense(32, activation='relu'),\n",
    "    Dense(1, activation='sigmoid')\n",
    "])\n",
    "\n",
    "model.compile(loss='binary_crossentropy', optimizer='adam', metrics=['accuracy'])\n",
    "model.summary()\n"
   ]
  },
  {
   "cell_type": "code",
   "execution_count": 20,
   "id": "e28e825c",
   "metadata": {
    "scrolled": true
   },
   "outputs": [
    {
     "name": "stdout",
     "output_type": "stream",
     "text": [
      "Epoch 1/10\n",
      "\u001b[1m281/281\u001b[0m \u001b[32m━━━━━━━━━━━━━━━━━━━━\u001b[0m\u001b[37m\u001b[0m \u001b[1m333s\u001b[0m 1s/step - accuracy: 0.6958 - loss: 0.5211 - val_accuracy: 0.6224 - val_loss: 0.6183\n",
      "Epoch 2/10\n",
      "\u001b[1m281/281\u001b[0m \u001b[32m━━━━━━━━━━━━━━━━━━━━\u001b[0m\u001b[37m\u001b[0m \u001b[1m724s\u001b[0m 3s/step - accuracy: 0.6874 - loss: 0.5342 - val_accuracy: 0.6167 - val_loss: 0.5779\n",
      "Epoch 3/10\n",
      "\u001b[1m281/281\u001b[0m \u001b[32m━━━━━━━━━━━━━━━━━━━━\u001b[0m\u001b[37m\u001b[0m \u001b[1m1278s\u001b[0m 5s/step - accuracy: 0.6893 - loss: 0.5247 - val_accuracy: 0.6989 - val_loss: 0.4997\n",
      "Epoch 4/10\n",
      "\u001b[1m281/281\u001b[0m \u001b[32m━━━━━━━━━━━━━━━━━━━━\u001b[0m\u001b[37m\u001b[0m \u001b[1m1194s\u001b[0m 4s/step - accuracy: 0.8398 - loss: 0.3760 - val_accuracy: 0.8986 - val_loss: 0.2944\n",
      "Epoch 5/10\n",
      "\u001b[1m281/281\u001b[0m \u001b[32m━━━━━━━━━━━━━━━━━━━━\u001b[0m\u001b[37m\u001b[0m \u001b[1m360s\u001b[0m 1s/step - accuracy: 0.8789 - loss: 0.3219 - val_accuracy: 0.8945 - val_loss: 0.3172\n",
      "Epoch 6/10\n",
      "\u001b[1m281/281\u001b[0m \u001b[32m━━━━━━━━━━━━━━━━━━━━\u001b[0m\u001b[37m\u001b[0m \u001b[1m371s\u001b[0m 1s/step - accuracy: 0.8878 - loss: 0.3146 - val_accuracy: 0.8570 - val_loss: 0.3506\n",
      "Epoch 7/10\n",
      "\u001b[1m281/281\u001b[0m \u001b[32m━━━━━━━━━━━━━━━━━━━━\u001b[0m\u001b[37m\u001b[0m \u001b[1m368s\u001b[0m 1s/step - accuracy: 0.9083 - loss: 0.2675 - val_accuracy: 0.9494 - val_loss: 0.1694\n",
      "Epoch 8/10\n",
      "\u001b[1m281/281\u001b[0m \u001b[32m━━━━━━━━━━━━━━━━━━━━\u001b[0m\u001b[37m\u001b[0m \u001b[1m370s\u001b[0m 1s/step - accuracy: 0.9493 - loss: 0.1450 - val_accuracy: 0.9568 - val_loss: 0.1179\n",
      "Epoch 9/10\n",
      "\u001b[1m281/281\u001b[0m \u001b[32m━━━━━━━━━━━━━━━━━━━━\u001b[0m\u001b[37m\u001b[0m \u001b[1m361s\u001b[0m 1s/step - accuracy: 0.9592 - loss: 0.1268 - val_accuracy: 0.9629 - val_loss: 0.1153\n",
      "Epoch 10/10\n",
      "\u001b[1m281/281\u001b[0m \u001b[32m━━━━━━━━━━━━━━━━━━━━\u001b[0m\u001b[37m\u001b[0m \u001b[1m354s\u001b[0m 1s/step - accuracy: 0.9755 - loss: 0.0782 - val_accuracy: 0.9732 - val_loss: 0.0822\n"
     ]
    }
   ],
   "source": [
    "from tensorflow.keras.callbacks import EarlyStopping\n",
    "\n",
    "early_stop = EarlyStopping(monitor='val_loss', patience=3, restore_best_weights=True)\n",
    "\n",
    "history = model.fit(\n",
    "    X_train_pad, y_train,\n",
    "    validation_data=(X_test_pad, y_test),\n",
    "    epochs=10,\n",
    "    batch_size=128,\n",
    "    callbacks=[early_stop]\n",
    ")\n",
    "\n"
   ]
  },
  {
   "cell_type": "code",
   "execution_count": 22,
   "id": "f5c0295b",
   "metadata": {},
   "outputs": [],
   "source": [
    "# Save model\n",
    "# Instead of .h5, save with .keras extension:\n",
    "model.save(\"models/lstm_fake_news_model.keras\")\n",
    "\n",
    "\n",
    "# Save tokenizer\n",
    "import pickle\n",
    "with open('models/tokenizer.pkl', 'wb') as f:\n",
    "    pickle.dump(tokenizer, f)\n"
   ]
  },
  {
   "cell_type": "code",
   "execution_count": null,
   "id": "1cbfb9ed",
   "metadata": {},
   "outputs": [],
   "source": []
  }
 ],
 "metadata": {
  "kernelspec": {
   "display_name": "Python (tf_env)",
   "language": "python",
   "name": "tf_env"
  },
  "language_info": {
   "codemirror_mode": {
    "name": "ipython",
    "version": 3
   },
   "file_extension": ".py",
   "mimetype": "text/x-python",
   "name": "python",
   "nbconvert_exporter": "python",
   "pygments_lexer": "ipython3",
   "version": "3.10.0"
  }
 },
 "nbformat": 4,
 "nbformat_minor": 5
}
